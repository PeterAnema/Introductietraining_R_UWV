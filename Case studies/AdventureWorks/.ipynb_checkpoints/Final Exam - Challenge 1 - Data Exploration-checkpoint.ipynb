{
 "cells": [
  {
   "cell_type": "markdown",
   "metadata": {},
   "source": [
    "# Principles of Machine Learning: R edition\n",
    "### EDx course DAT276x\n",
    "### Final Exam - Challenge 1: Data Exploration"
   ]
  },
  {
   "cell_type": "markdown",
   "metadata": {},
   "source": [
    "### Packages"
   ]
  },
  {
   "cell_type": "code",
   "execution_count": null,
   "metadata": {},
   "outputs": [],
   "source": [
    "library(ggplot2)"
   ]
  },
  {
   "cell_type": "code",
   "execution_count": null,
   "metadata": {},
   "outputs": [],
   "source": [
    "options(repr.plot.width=5, repr.plot.height=4) # Set the initial plot area dimensions"
   ]
  },
  {
   "cell_type": "markdown",
   "metadata": {},
   "source": [
    "## Read the data"
   ]
  },
  {
   "cell_type": "markdown",
   "metadata": {},
   "source": [
    "### df_Customers"
   ]
  },
  {
   "cell_type": "code",
   "execution_count": null,
   "metadata": {},
   "outputs": [],
   "source": [
    "df_Customers <- read.csv('Data/AdvWorksCusts.csv')\n",
    "\n",
    "print(dim(df_Customers))\n",
    "head(df_Customers)"
   ]
  },
  {
   "cell_type": "code",
   "execution_count": null,
   "metadata": {},
   "outputs": [],
   "source": [
    "names(df_Customers)"
   ]
  },
  {
   "cell_type": "markdown",
   "metadata": {},
   "source": [
    "### df_AveMonthSpend"
   ]
  },
  {
   "cell_type": "code",
   "execution_count": null,
   "metadata": {},
   "outputs": [],
   "source": [
    "df_AveMonthSpend <- read.csv('Data/AW_AveMonthSpend.csv')\n",
    "\n",
    "print(dim(df_AveMonthSpend))\n",
    "head(df_AveMonthSpend)"
   ]
  },
  {
   "cell_type": "markdown",
   "metadata": {},
   "source": [
    "### AW_BikeBuyer"
   ]
  },
  {
   "cell_type": "code",
   "execution_count": null,
   "metadata": {},
   "outputs": [],
   "source": [
    "df_BikeBuyer <- read.csv('Data/AW_BikeBuyer.csv')\n",
    "\n",
    "print(dim(df_BikeBuyer))\n",
    "head(df_BikeBuyer)"
   ]
  },
  {
   "cell_type": "markdown",
   "metadata": {},
   "source": [
    "### Remove duplicates"
   ]
  },
  {
   "cell_type": "code",
   "execution_count": null,
   "metadata": {},
   "outputs": [],
   "source": [
    "df_Customers <- df_Customers[!duplicated(df_Customers$CustomerID, fromLast=TRUE),]\n",
    "\n",
    "print(dim(df_Customers))\n",
    "head(df_Customers)"
   ]
  },
  {
   "cell_type": "code",
   "execution_count": null,
   "metadata": {},
   "outputs": [],
   "source": [
    "df_AveMonthSpend <- df_AveMonthSpend[!duplicated(df_AveMonthSpend$CustomerID, fromLast=TRUE),]\n",
    "\n",
    "print(dim(df_AveMonthSpend))\n",
    "head(df_AveMonthSpend)"
   ]
  },
  {
   "cell_type": "code",
   "execution_count": null,
   "metadata": {},
   "outputs": [],
   "source": [
    "df_BikeBuyer <- df_BikeBuyer[!duplicated(df_BikeBuyer$CustomerID, fromLast=TRUE),]\n",
    "\n",
    "print(dim(df_BikeBuyer))\n",
    "head(df_BikeBuyer)"
   ]
  },
  {
   "cell_type": "markdown",
   "metadata": {},
   "source": [
    "### Merge dataframes"
   ]
  },
  {
   "cell_type": "code",
   "execution_count": null,
   "metadata": {
    "scrolled": true
   },
   "outputs": [],
   "source": [
    "df_Customers_BikeBuyer <- merge(df_Customers, df_BikeBuyer, by=\"CustomerID\")\n",
    "head(df_Customers_BikeBuyer)"
   ]
  },
  {
   "cell_type": "markdown",
   "metadata": {},
   "source": [
    "### Explore df_AveMonthSpend"
   ]
  },
  {
   "cell_type": "code",
   "execution_count": null,
   "metadata": {},
   "outputs": [],
   "source": [
    "summary(df_AveMonthSpend$AveMonthSpend)\n",
    "\n",
    "formatted_summary <- function(x){\n",
    "    cat(sprintf('Minimum            : %8.2f\\n', min(x)))\n",
    "    cat(sprintf('1st Quartile       : %8.2f\\n', quantile(x, 0.25)))\n",
    "    cat(sprintf('Median             : %8.2f\\n', median(x)))\n",
    "    cat(sprintf('3rd Quartile       : %8.2f\\n', quantile(x, 0.75)))\n",
    "    cat(sprintf('Maximum            : %8.2f\\n', max(x)))\n",
    "    cat(sprintf('Mean               : %8.2f\\n', mean(x)))\n",
    "    cat(sprintf('Standard deviation : %8.2f\\n', sd(x)))\n",
    "}\n",
    "\n",
    "formatted_summary(df_AveMonthSpend$AveMonthSpend)"
   ]
  },
  {
   "cell_type": "markdown",
   "metadata": {},
   "source": [
    "#### Question 1: Minimum AveMonthSpend = 22\n",
    "#### Question 2: Maximum AveMonthSpend = 176\n",
    "#### Question 3: Mean AveMonthSpend = 72.391002\n",
    "#### Question 4: Median AveMonthSpend = 68\n",
    "#### Question 5: Standard Deviation AveMonthSpend = 27.269921"
   ]
  },
  {
   "cell_type": "markdown",
   "metadata": {},
   "source": [
    "### Explore df_BikeBuyer"
   ]
  },
  {
   "cell_type": "code",
   "execution_count": null,
   "metadata": {},
   "outputs": [],
   "source": [
    "counts <- table(df_BikeBuyer$BikeBuyer)\n",
    "\n",
    "#print(counts)\n",
    "\n",
    "par(pin=c(4,3))\n",
    "\n",
    "bp <- barplot(counts, \n",
    "              main=\"Bike Buyers\",\n",
    "              names.arg=c(\"0 - Not a Buyer\", \"1 - Buyer\"),\n",
    "              col=\"darkblue\",\n",
    "              border=FALSE, \n",
    "              ylab=\"count\",\n",
    "              ylim=c(0,12000))\n",
    "        \n",
    "text(bp, counts, counts, cex=0.8, pos=3) "
   ]
  },
  {
   "cell_type": "markdown",
   "metadata": {},
   "source": [
    "#### Question 6: Fewer customers have bought bikes than have not bought bikes."
   ]
  },
  {
   "cell_type": "code",
   "execution_count": null,
   "metadata": {},
   "outputs": [],
   "source": [
    "t <- aggregate(df_Customers_BikeBuyer$YearlyIncome, \n",
    "               by=list(Occupation = df_Customers_BikeBuyer$Occupation), \n",
    "               FUN=\"median\")\n",
    "\n",
    "names(t) <- c('Occupation','MedianOfYearlyIncome')\n",
    "\n",
    "t[order(t$MedianOfYearlyIncome),]"
   ]
  },
  {
   "cell_type": "markdown",
   "metadata": {},
   "source": [
    "#### Question 7: Manual, Clerical, Skilled Manual, Professional, Management"
   ]
  },
  {
   "cell_type": "code",
   "execution_count": null,
   "metadata": {},
   "outputs": [],
   "source": [
    "age <- function(from, to) {\n",
    "    from_lt = as.POSIXlt(from)\n",
    "    to_lt = as.POSIXlt(to)\n",
    "\n",
    "    age = to_lt$year - from_lt$year\n",
    "\n",
    "    ifelse(to_lt$mon < from_lt$mon | (to_lt$mon == from_lt$mon & to_lt$mday < from_lt$mday),\n",
    "           age - 1,\n",
    "           age)\n",
    "}"
   ]
  },
  {
   "cell_type": "code",
   "execution_count": null,
   "metadata": {},
   "outputs": [],
   "source": [
    "to <- as.Date(\"01/01/1998\", format=\"%m/%d/%Y\")\n",
    "df_Customers$Age <- age(df_Customers$BirthDate, to)"
   ]
  },
  {
   "cell_type": "code",
   "execution_count": null,
   "metadata": {},
   "outputs": [],
   "source": [
    "df_Customers$AgeCategory <- cut(df_Customers$Age, \n",
    "                                breaks = c(0,25,45,55,100))"
   ]
  },
  {
   "cell_type": "code",
   "execution_count": null,
   "metadata": {},
   "outputs": [],
   "source": [
    "df_Customers_AveMonthSpend = merge(df_Customers, \n",
    "                                   df_AveMonthSpend, \n",
    "                                   by=\"CustomerID\")\n",
    "head(df_Customers_AveMonthSpend)"
   ]
  },
  {
   "cell_type": "code",
   "execution_count": null,
   "metadata": {},
   "outputs": [],
   "source": [
    "grouped <- aggregate(x = df_Customers_AveMonthSpend$AveMonthSpend, \n",
    "                     by = list(df_Customers_AveMonthSpend$AgeCategory, \n",
    "                               df_Customers_AveMonthSpend$Gender), \n",
    "                     FUN = mean)\n",
    "grouped <- grouped[order(grouped[, 1], grouped[, 2]),]\n",
    "rownames(grouped) <- NULL\n",
    "names(grouped) = c('AgeCategory', 'Gender', 'mean_AveMonthSpend')\n",
    "grouped"
   ]
  },
  {
   "cell_type": "markdown",
   "metadata": {},
   "source": [
    "or alternatively using dplyr"
   ]
  },
  {
   "cell_type": "code",
   "execution_count": null,
   "metadata": {},
   "outputs": [],
   "source": [
    "library(dplyr)\n",
    "grouped <- df_Customers_AveMonthSpend %>% group_by(AgeCategory, Gender)\n",
    "summarise(grouped, mean_AveMonthSpend = mean(AveMonthSpend))"
   ]
  },
  {
   "cell_type": "markdown",
   "metadata": {},
   "source": [
    "#### Question 8: Males aged between 25 and 45 accounts for the highest AveMonthSpend values"
   ]
  },
  {
   "cell_type": "code",
   "execution_count": null,
   "metadata": {},
   "outputs": [],
   "source": [
    "t <- aggregate(df_Customers_AveMonthSpend$AveMonthSpend, \n",
    "               by=list(MaritalStatus = df_Customers_AveMonthSpend$MaritalStatus), \n",
    "               FUN=\"median\")\n",
    "\n",
    "names(t) <- c('MaritalStatus','MedianOfAveMonthSpend')\n",
    "\n",
    "t[order(t[,1]),]\n",
    "\n",
    "# or alternatively using dplyr\n",
    "#\n",
    "summarise(group_by(df_Customers_AveMonthSpend, \n",
    "                   MaritalStatus), \n",
    "          MedianOfAveMonthSpend = median(AveMonthSpend))"
   ]
  },
  {
   "cell_type": "markdown",
   "metadata": {},
   "source": [
    "#### Question 9a: Married customers have a higher median AvgMonthSpend than single customers. => TRUE"
   ]
  },
  {
   "cell_type": "code",
   "execution_count": null,
   "metadata": {
    "scrolled": false
   },
   "outputs": [],
   "source": [
    "t <- aggregate(df_Customers_AveMonthSpend$AveMonthSpend, \n",
    "               by = list(NumberCarsOwned = df_Customers_AveMonthSpend$NumberCarsOwned), \n",
    "               FUN = \"median\")\n",
    "\n",
    "names(t) <- c('NumberCarsOwned','MedianOfAveMonthSpend')\n",
    "\n",
    "t[order(t[,1]),]\n",
    "\n",
    "# or alternatively using dplyr\n",
    "#\n",
    "summarise(group_by(df_Customers_AveMonthSpend, \n",
    "                   NumberCarsOwned), \n",
    "          MedianOfAveMonthSpend = median(AveMonthSpend))"
   ]
  },
  {
   "cell_type": "markdown",
   "metadata": {},
   "source": [
    "#### Question 9b: Customers with no car have a higher median AvgMonthSpend than customers with three or more cars. => FALSE"
   ]
  },
  {
   "cell_type": "code",
   "execution_count": null,
   "metadata": {
    "scrolled": false
   },
   "outputs": [],
   "source": [
    "t <- aggregate(df_Customers_AveMonthSpend$AveMonthSpend, \n",
    "               by = list(Gender = df_Customers_AveMonthSpend$Gender), \n",
    "               FUN = \"median\")\n",
    "\n",
    "names(t) <- c('Gender','MedianOfAveMonthSpend')\n",
    "\n",
    "t[order(t[,1]),]\n",
    "\n",
    "# or alternatively using dplyr\n",
    "#\n",
    "summarise(group_by(df_Customers_AveMonthSpend, \n",
    "                   Gender), \n",
    "          MedianOfAveMonthSpend = median(AveMonthSpend))"
   ]
  },
  {
   "cell_type": "markdown",
   "metadata": {},
   "source": [
    "#### Question 9c: Male customers have a higher median AvgMonthSpend than female customers. => TRUE"
   ]
  },
  {
   "cell_type": "code",
   "execution_count": null,
   "metadata": {},
   "outputs": [],
   "source": [
    "value_range <- function(a) {\n",
    "    return(max(a) - min(a))\n",
    "}\n",
    "\n",
    "t <- aggregate(df_Customers_AveMonthSpend$AveMonthSpend, \n",
    "               by = list(Gender = df_Customers_AveMonthSpend$Gender), \n",
    "               FUN = value_range)\n",
    "\n",
    "names(t) <- c('Gender','RangeOfAveMonthSpend')\n",
    "\n",
    "t[order(t[,1]),]\n",
    "\n",
    "# or alternatively using dplyr\n",
    "#\n",
    "summarise(group_by(df_Customers_AveMonthSpend, \n",
    "                   Gender), \n",
    "          MinimumOfAveMonthSpend = min(AveMonthSpend), \n",
    "          MaximumOfAveMonthSpend = max(AveMonthSpend), \n",
    "          RangeOfAveMonthSpend = value_range(AveMonthSpend))"
   ]
  },
  {
   "cell_type": "markdown",
   "metadata": {},
   "source": [
    "#### Question 9d: Female customers have a wider range of AvgMonthSpend values than male customers. => FALSE"
   ]
  },
  {
   "cell_type": "code",
   "execution_count": null,
   "metadata": {
    "scrolled": true
   },
   "outputs": [],
   "source": [
    "t <- aggregate(df_Customers_AveMonthSpend$AveMonthSpend, \n",
    "               by = list(NumberChildrenAtHome = df_Customers_AveMonthSpend$NumberChildrenAtHome), \n",
    "               FUN = median)\n",
    "\n",
    "names(t) <- c('NumberChildrenAtHome','MedianOfAveMonthSpend')\n",
    "\n",
    "t[order(t[,1]),]\n",
    "\n",
    "# or alternatively using dplyr\n",
    "#\n",
    "summarise(group_by(df_Customers_AveMonthSpend, \n",
    "                   NumberChildrenAtHome), \n",
    "          MedianOfAveMonthSpend = median(AveMonthSpend))"
   ]
  },
  {
   "cell_type": "markdown",
   "metadata": {},
   "source": [
    "#### Question 9e: Customers with no children at home have a lower median AvgMonthSpend values than customers with one or more children at home. => TRUE"
   ]
  },
  {
   "cell_type": "code",
   "execution_count": null,
   "metadata": {},
   "outputs": [],
   "source": [
    "t <- aggregate(df_Customers_BikeBuyer$YearlyIncome, \n",
    "               by = list(BikeBuyer = df_Customers_BikeBuyer$BikeBuyer), \n",
    "               FUN = median)\n",
    "\n",
    "names(t) <- c('BikeBuyer','MedianOfYearlyIncome')\n",
    "\n",
    "t[order(t[,1]),]\n",
    "\n",
    "# or alternatively using dplyr\n",
    "#\n",
    "summarise(group_by(df_Customers_BikeBuyer, \n",
    "                   BikeBuyer), \n",
    "          MedianOfYearlyIncome = median(YearlyIncome))"
   ]
  },
  {
   "cell_type": "markdown",
   "metadata": {},
   "source": [
    "#### Question 10a: The median YearlyIncome is higher for customers who bought a bike than for customers who didn't. => TRUE"
   ]
  },
  {
   "cell_type": "code",
   "execution_count": null,
   "metadata": {},
   "outputs": [],
   "source": [
    "t <- aggregate(df_Customers_BikeBuyer$NumberCarsOwned, \n",
    "               by = list(BikeBuyer = df_Customers_BikeBuyer$BikeBuyer), \n",
    "               FUN = median)\n",
    "\n",
    "names(t) <- c('BikeBuyer','MedianOfNumberCarsOwned')\n",
    "\n",
    "t[order(t[,1]),]\n",
    "\n",
    "# or alternatively using dplyr\n",
    "#\n",
    "summarise(group_by(df_Customers_BikeBuyer, \n",
    "                   BikeBuyer), \n",
    "          MedianOfNumberCarsOwned = median(NumberCarsOwned))"
   ]
  },
  {
   "cell_type": "markdown",
   "metadata": {},
   "source": [
    "#### Question 10b: The median number of cars owned by customers who bought a bike is lower than for customers who didn't. => FALSE"
   ]
  },
  {
   "cell_type": "code",
   "execution_count": null,
   "metadata": {},
   "outputs": [],
   "source": [
    "t <- aggregate(df_Customers_BikeBuyer$Occupation, \n",
    "               by = list(BikeBuyer = df_Customers_BikeBuyer$BikeBuyer,\n",
    "                         Occupation = df_Customers_BikeBuyer$Occupation), \n",
    "               FUN = length)\n",
    "\n",
    "names(t) <- c('BikeBuyer','Occupation','N')\n",
    "t <- t[order(t[,1], t[,2]),]\n",
    "rownames(t) <- NULL\n",
    "t\n",
    "\n",
    "# or alternatively using dplyr\n",
    "#\n",
    "summarise(group_by(df_Customers_BikeBuyer, \n",
    "                   BikeBuyer, \n",
    "                   Occupation), \n",
    "          N = n())"
   ]
  },
  {
   "cell_type": "markdown",
   "metadata": {},
   "source": [
    "#### Question 10c: The most common occupation type for customers who bought a bike is skilled manual. => FALSE"
   ]
  },
  {
   "cell_type": "code",
   "execution_count": null,
   "metadata": {},
   "outputs": [],
   "source": [
    "t <- aggregate(df_Customers_BikeBuyer$Gender, \n",
    "               by = list(BikeBuyer = df_Customers_BikeBuyer$BikeBuyer,\n",
    "                         Gender = df_Customers_BikeBuyer$Gender), \n",
    "               FUN = length)\n",
    "\n",
    "names(t) <- c('BikeBuyer','Gender','N')\n",
    "\n",
    "t <- t[order(t[,1], t[,2]),]\n",
    "rownames(t) <- NULL\n",
    "t\n",
    "\n",
    "t <- reshape(t, \n",
    "             direction=\"wide\", \n",
    "             v.names=\"N\", \n",
    "             timevar=\"BikeBuyer\", \n",
    "             idvar=\"Gender\")\n",
    "t$PercentageBuyers = t$N.1 / (t$N.0 + t$N.1)\n",
    "t\n",
    "\n",
    "# or alternatively using dplyr\n",
    "#\n",
    "summarise(group_by(df_Customers_BikeBuyer, \n",
    "                   BikeBuyer, \n",
    "                   Gender), \n",
    "          N = n())"
   ]
  },
  {
   "cell_type": "markdown",
   "metadata": {},
   "source": [
    "#### Question 10d: Male customers are more likely to buy bikes than female customers. => TRUE"
   ]
  },
  {
   "cell_type": "code",
   "execution_count": null,
   "metadata": {},
   "outputs": [],
   "source": [
    "t <- aggregate(df_Customers_BikeBuyer$MaritalStatus, \n",
    "               by = list(BikeBuyer = df_Customers_BikeBuyer$BikeBuyer,\n",
    "                         MaritalStatus = df_Customers_BikeBuyer$MaritalStatus), \n",
    "               FUN = length)\n",
    "\n",
    "names(t) <- c('BikeBuyer', 'MaritalStatus', 'N')\n",
    "\n",
    "t <- t[order(t[,1], t[,2]),]\n",
    "rownames(t) <- NULL\n",
    "t\n",
    "\n",
    "t <- reshape(t, \n",
    "             direction=\"wide\", \n",
    "             v.names=\"N\", \n",
    "             timevar=\"BikeBuyer\", \n",
    "             idvar=\"MaritalStatus\")\n",
    "t$PercentageBuyers = t$N.1 / (t$N.0 + t$N.1)\n",
    "t\n",
    "\n",
    "# or alternatively using dplyr\n",
    "#\n",
    "summarise(group_by(df_Customers_BikeBuyer, \n",
    "                   BikeBuyer, \n",
    "                   MaritalStatus), \n",
    "          N = n())"
   ]
  },
  {
   "cell_type": "markdown",
   "metadata": {},
   "source": [
    "#### Question 10e: A maried customer is more likely to buy a bike. => FALSE"
   ]
  },
  {
   "cell_type": "code",
   "execution_count": null,
   "metadata": {},
   "outputs": [],
   "source": []
  }
 ],
 "metadata": {
  "kernelspec": {
   "display_name": "R",
   "language": "R",
   "name": "ir"
  },
  "language_info": {
   "codemirror_mode": "r",
   "file_extension": ".r",
   "mimetype": "text/x-r-source",
   "name": "R",
   "pygments_lexer": "r",
   "version": "3.6.1"
  }
 },
 "nbformat": 4,
 "nbformat_minor": 2
}
